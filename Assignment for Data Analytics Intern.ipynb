{
 "cells": [
  {
   "cell_type": "markdown",
   "id": "ab850e4a-1f63-4b35-ab0b-478e1ae79006",
   "metadata": {},
   "source": [
    "# Assignment for Data Analytics Intern"
   ]
  },
  {
   "cell_type": "code",
   "execution_count": 1,
   "id": "ad4eda84-3d01-4ebd-96b6-d4f58848f0c7",
   "metadata": {},
   "outputs": [],
   "source": [
    "import numpy as np\n",
    "import pandas as pd\n",
    "import matplotlib.pyplot as plt\n",
    "import seaborn as sns"
   ]
  },
  {
   "cell_type": "code",
   "execution_count": 2,
   "id": "753ba429-bd03-4a44-91df-0dd653adada8",
   "metadata": {},
   "outputs": [],
   "source": [
    "import warnings\n",
    "warnings.filterwarnings('ignore')"
   ]
  },
  {
   "cell_type": "markdown",
   "id": "7a0c1622-27ae-4705-8ade-79c9df0ce416",
   "metadata": {},
   "source": [
    "`1. Data Cleaning`"
   ]
  },
  {
   "cell_type": "code",
   "execution_count": 3,
   "id": "421ee19a-c9c0-489e-acb7-d9d44f62f040",
   "metadata": {},
   "outputs": [],
   "source": [
    "UserDetails = pd.read_excel('Assignment.xlsx')"
   ]
  },
  {
   "cell_type": "code",
   "execution_count": 4,
   "id": "498941c1-b808-4d5e-939a-64d372130424",
   "metadata": {},
   "outputs": [
    {
     "data": {
      "text/html": [
       "<div>\n",
       "<style scoped>\n",
       "    .dataframe tbody tr th:only-of-type {\n",
       "        vertical-align: middle;\n",
       "    }\n",
       "\n",
       "    .dataframe tbody tr th {\n",
       "        vertical-align: top;\n",
       "    }\n",
       "\n",
       "    .dataframe thead th {\n",
       "        text-align: right;\n",
       "    }\n",
       "</style>\n",
       "<table border=\"1\" class=\"dataframe\">\n",
       "  <thead>\n",
       "    <tr style=\"text-align: right;\">\n",
       "      <th></th>\n",
       "      <th>User ID</th>\n",
       "      <th>User Name</th>\n",
       "      <th>Age</th>\n",
       "      <th>Location</th>\n",
       "      <th>Registration Date</th>\n",
       "      <th>Phone</th>\n",
       "      <th>Email</th>\n",
       "      <th>Favorite Meal</th>\n",
       "      <th>Total Orders</th>\n",
       "    </tr>\n",
       "  </thead>\n",
       "  <tbody>\n",
       "    <tr>\n",
       "      <th>0</th>\n",
       "      <td>U001</td>\n",
       "      <td>Alice Johnson</td>\n",
       "      <td>28</td>\n",
       "      <td>New York</td>\n",
       "      <td>2023-01-15</td>\n",
       "      <td>123-456-7890</td>\n",
       "      <td>alice@email.com</td>\n",
       "      <td>Dinner</td>\n",
       "      <td>12</td>\n",
       "    </tr>\n",
       "    <tr>\n",
       "      <th>1</th>\n",
       "      <td>U002</td>\n",
       "      <td>Bob Smith</td>\n",
       "      <td>35</td>\n",
       "      <td>Los Angeles</td>\n",
       "      <td>2023-02-20</td>\n",
       "      <td>987-654-3210</td>\n",
       "      <td>bob@email.com</td>\n",
       "      <td>Lunch</td>\n",
       "      <td>8</td>\n",
       "    </tr>\n",
       "    <tr>\n",
       "      <th>2</th>\n",
       "      <td>U003</td>\n",
       "      <td>Charlie Lee</td>\n",
       "      <td>42</td>\n",
       "      <td>Chicago</td>\n",
       "      <td>2023-03-10</td>\n",
       "      <td>555-123-4567</td>\n",
       "      <td>charlie@email.com</td>\n",
       "      <td>Breakfast</td>\n",
       "      <td>15</td>\n",
       "    </tr>\n",
       "    <tr>\n",
       "      <th>3</th>\n",
       "      <td>U004</td>\n",
       "      <td>David Brown</td>\n",
       "      <td>27</td>\n",
       "      <td>San Francisco</td>\n",
       "      <td>2023-04-05</td>\n",
       "      <td>444-333-2222</td>\n",
       "      <td>david@email.com</td>\n",
       "      <td>Dinner</td>\n",
       "      <td>10</td>\n",
       "    </tr>\n",
       "    <tr>\n",
       "      <th>4</th>\n",
       "      <td>U005</td>\n",
       "      <td>Emma White</td>\n",
       "      <td>30</td>\n",
       "      <td>Seattle</td>\n",
       "      <td>2023-05-22</td>\n",
       "      <td>777-888-9999</td>\n",
       "      <td>emma@email.com</td>\n",
       "      <td>Lunch</td>\n",
       "      <td>9</td>\n",
       "    </tr>\n",
       "    <tr>\n",
       "      <th>5</th>\n",
       "      <td>U006</td>\n",
       "      <td>Frank Green</td>\n",
       "      <td>25</td>\n",
       "      <td>Austin</td>\n",
       "      <td>2023-06-15</td>\n",
       "      <td>888-777-6666</td>\n",
       "      <td>frank@email.com</td>\n",
       "      <td>Dinner</td>\n",
       "      <td>7</td>\n",
       "    </tr>\n",
       "    <tr>\n",
       "      <th>6</th>\n",
       "      <td>U007</td>\n",
       "      <td>Grace King</td>\n",
       "      <td>38</td>\n",
       "      <td>Boston</td>\n",
       "      <td>2023-07-02</td>\n",
       "      <td>999-888-7777</td>\n",
       "      <td>grace@email.com</td>\n",
       "      <td>Breakfast</td>\n",
       "      <td>14</td>\n",
       "    </tr>\n",
       "    <tr>\n",
       "      <th>7</th>\n",
       "      <td>U008</td>\n",
       "      <td>Henry Lee</td>\n",
       "      <td>31</td>\n",
       "      <td>Miami</td>\n",
       "      <td>2023-08-11</td>\n",
       "      <td>101-202-3030</td>\n",
       "      <td>henry@email.com</td>\n",
       "      <td>Dinner</td>\n",
       "      <td>5</td>\n",
       "    </tr>\n",
       "    <tr>\n",
       "      <th>8</th>\n",
       "      <td>U009</td>\n",
       "      <td>Irene Moore</td>\n",
       "      <td>33</td>\n",
       "      <td>Dallas</td>\n",
       "      <td>2023-09-01</td>\n",
       "      <td>202-303-4040</td>\n",
       "      <td>irene@email.com</td>\n",
       "      <td>Lunch</td>\n",
       "      <td>6</td>\n",
       "    </tr>\n",
       "    <tr>\n",
       "      <th>9</th>\n",
       "      <td>U010</td>\n",
       "      <td>Jack White</td>\n",
       "      <td>29</td>\n",
       "      <td>Phoenix</td>\n",
       "      <td>2023-10-10</td>\n",
       "      <td>303-404-5050</td>\n",
       "      <td>jack@email.com</td>\n",
       "      <td>Dinner</td>\n",
       "      <td>8</td>\n",
       "    </tr>\n",
       "  </tbody>\n",
       "</table>\n",
       "</div>"
      ],
      "text/plain": [
       "  User ID      User Name  Age       Location Registration Date         Phone  \\\n",
       "0    U001  Alice Johnson   28       New York        2023-01-15  123-456-7890   \n",
       "1    U002      Bob Smith   35    Los Angeles        2023-02-20  987-654-3210   \n",
       "2    U003    Charlie Lee   42        Chicago        2023-03-10  555-123-4567   \n",
       "3    U004    David Brown   27  San Francisco        2023-04-05  444-333-2222   \n",
       "4    U005     Emma White   30        Seattle        2023-05-22  777-888-9999   \n",
       "5    U006    Frank Green   25         Austin        2023-06-15  888-777-6666   \n",
       "6    U007     Grace King   38         Boston        2023-07-02  999-888-7777   \n",
       "7    U008      Henry Lee   31          Miami        2023-08-11  101-202-3030   \n",
       "8    U009    Irene Moore   33         Dallas        2023-09-01  202-303-4040   \n",
       "9    U010     Jack White   29        Phoenix        2023-10-10  303-404-5050   \n",
       "\n",
       "               Email Favorite Meal  Total Orders  \n",
       "0    alice@email.com        Dinner            12  \n",
       "1      bob@email.com         Lunch             8  \n",
       "2  charlie@email.com     Breakfast            15  \n",
       "3    david@email.com        Dinner            10  \n",
       "4     emma@email.com         Lunch             9  \n",
       "5    frank@email.com        Dinner             7  \n",
       "6    grace@email.com     Breakfast            14  \n",
       "7    henry@email.com        Dinner             5  \n",
       "8    irene@email.com         Lunch             6  \n",
       "9     jack@email.com        Dinner             8  "
      ]
     },
     "execution_count": 4,
     "metadata": {},
     "output_type": "execute_result"
    }
   ],
   "source": [
    "UserDetails"
   ]
  },
  {
   "cell_type": "markdown",
   "id": "1c76610c-733e-43ac-9b39-688fdd08bc57",
   "metadata": {},
   "source": [
    "`EDA`"
   ]
  },
  {
   "cell_type": "code",
   "execution_count": 5,
   "id": "9fb7fcd3-cc1c-4a6d-a71a-66c18d270662",
   "metadata": {},
   "outputs": [
    {
     "name": "stdout",
     "output_type": "stream",
     "text": [
      "<class 'pandas.core.frame.DataFrame'>\n",
      "RangeIndex: 10 entries, 0 to 9\n",
      "Data columns (total 9 columns):\n",
      " #   Column             Non-Null Count  Dtype         \n",
      "---  ------             --------------  -----         \n",
      " 0   User ID            10 non-null     object        \n",
      " 1   User Name          10 non-null     object        \n",
      " 2   Age                10 non-null     int64         \n",
      " 3   Location           10 non-null     object        \n",
      " 4   Registration Date  10 non-null     datetime64[ns]\n",
      " 5   Phone              10 non-null     object        \n",
      " 6   Email              10 non-null     object        \n",
      " 7   Favorite Meal      10 non-null     object        \n",
      " 8   Total Orders       10 non-null     int64         \n",
      "dtypes: datetime64[ns](1), int64(2), object(6)\n",
      "memory usage: 852.0+ bytes\n"
     ]
    }
   ],
   "source": [
    "UserDetails.info()"
   ]
  },
  {
   "cell_type": "code",
   "execution_count": 6,
   "id": "9d6de93c-c4a4-42dd-90b2-07ec2125625b",
   "metadata": {},
   "outputs": [
    {
     "data": {
      "text/plain": [
       "(10, 9)"
      ]
     },
     "execution_count": 6,
     "metadata": {},
     "output_type": "execute_result"
    }
   ],
   "source": [
    "UserDetails.shape"
   ]
  },
  {
   "cell_type": "code",
   "execution_count": 7,
   "id": "2b1f0862-593c-4f7a-bd03-fde5d507e5ad",
   "metadata": {},
   "outputs": [
    {
     "data": {
      "text/plain": [
       "0"
      ]
     },
     "execution_count": 7,
     "metadata": {},
     "output_type": "execute_result"
    }
   ],
   "source": [
    "UserDetails.isnull().sum().sum()"
   ]
  },
  {
   "cell_type": "code",
   "execution_count": 8,
   "id": "b07d9ff7-5014-4d92-8d5a-36a7731bd6ea",
   "metadata": {},
   "outputs": [
    {
     "data": {
      "text/plain": [
       "0"
      ]
     },
     "execution_count": 8,
     "metadata": {},
     "output_type": "execute_result"
    }
   ],
   "source": [
    "UserDetails.duplicated().sum()"
   ]
  },
  {
   "cell_type": "markdown",
   "id": "f10be9af-dd22-412d-8d84-e113a4b115e0",
   "metadata": {},
   "source": [
    "`No null or duplicate values present`"
   ]
  },
  {
   "cell_type": "markdown",
   "id": "3be09e0d-2370-4ae2-933b-f6d16337ba4a",
   "metadata": {},
   "source": [
    "---------------------------------------------------------------------------------------------------------------------------------"
   ]
  },
  {
   "cell_type": "code",
   "execution_count": 9,
   "id": "936f71b5-62fe-4c92-b97a-c2ab7a95faeb",
   "metadata": {},
   "outputs": [],
   "source": [
    "CookingSessions = pd.read_excel('Assignment.xlsx', sheet_name='CookingSessions.csv')"
   ]
  },
  {
   "cell_type": "code",
   "execution_count": 10,
   "id": "f93248d7-c6a5-4145-ae88-5ec41e000284",
   "metadata": {},
   "outputs": [
    {
     "data": {
      "text/html": [
       "<div>\n",
       "<style scoped>\n",
       "    .dataframe tbody tr th:only-of-type {\n",
       "        vertical-align: middle;\n",
       "    }\n",
       "\n",
       "    .dataframe tbody tr th {\n",
       "        vertical-align: top;\n",
       "    }\n",
       "\n",
       "    .dataframe thead th {\n",
       "        text-align: right;\n",
       "    }\n",
       "</style>\n",
       "<table border=\"1\" class=\"dataframe\">\n",
       "  <thead>\n",
       "    <tr style=\"text-align: right;\">\n",
       "      <th></th>\n",
       "      <th>Session ID</th>\n",
       "      <th>User ID</th>\n",
       "      <th>Dish Name</th>\n",
       "      <th>Meal Type</th>\n",
       "      <th>Session Start</th>\n",
       "      <th>Session End</th>\n",
       "      <th>Duration (mins)</th>\n",
       "      <th>Session Rating</th>\n",
       "    </tr>\n",
       "  </thead>\n",
       "  <tbody>\n",
       "    <tr>\n",
       "      <th>0</th>\n",
       "      <td>S001</td>\n",
       "      <td>U001</td>\n",
       "      <td>Spaghetti</td>\n",
       "      <td>Dinner</td>\n",
       "      <td>2024-12-01 19:00:00</td>\n",
       "      <td>2024-12-01 19:30:00</td>\n",
       "      <td>30</td>\n",
       "      <td>4.5</td>\n",
       "    </tr>\n",
       "    <tr>\n",
       "      <th>1</th>\n",
       "      <td>S002</td>\n",
       "      <td>U002</td>\n",
       "      <td>Caesar Salad</td>\n",
       "      <td>Lunch</td>\n",
       "      <td>2024-12-01 12:00:00</td>\n",
       "      <td>2024-12-01 12:20:00</td>\n",
       "      <td>20</td>\n",
       "      <td>4.0</td>\n",
       "    </tr>\n",
       "    <tr>\n",
       "      <th>2</th>\n",
       "      <td>S003</td>\n",
       "      <td>U003</td>\n",
       "      <td>Grilled Chicken</td>\n",
       "      <td>Dinner</td>\n",
       "      <td>2024-12-02 19:30:00</td>\n",
       "      <td>2024-12-02 20:10:00</td>\n",
       "      <td>40</td>\n",
       "      <td>4.8</td>\n",
       "    </tr>\n",
       "    <tr>\n",
       "      <th>3</th>\n",
       "      <td>S004</td>\n",
       "      <td>U001</td>\n",
       "      <td>Pancakes</td>\n",
       "      <td>Breakfast</td>\n",
       "      <td>2024-12-02 07:30:00</td>\n",
       "      <td>2024-12-02 08:00:00</td>\n",
       "      <td>30</td>\n",
       "      <td>4.2</td>\n",
       "    </tr>\n",
       "    <tr>\n",
       "      <th>4</th>\n",
       "      <td>S005</td>\n",
       "      <td>U004</td>\n",
       "      <td>Caesar Salad</td>\n",
       "      <td>Lunch</td>\n",
       "      <td>2024-12-03 13:00:00</td>\n",
       "      <td>2024-12-03 13:15:00</td>\n",
       "      <td>15</td>\n",
       "      <td>4.7</td>\n",
       "    </tr>\n",
       "    <tr>\n",
       "      <th>5</th>\n",
       "      <td>S006</td>\n",
       "      <td>U002</td>\n",
       "      <td>Spaghetti</td>\n",
       "      <td>Dinner</td>\n",
       "      <td>2024-12-03 18:30:00</td>\n",
       "      <td>2024-12-03 19:00:00</td>\n",
       "      <td>30</td>\n",
       "      <td>4.3</td>\n",
       "    </tr>\n",
       "    <tr>\n",
       "      <th>6</th>\n",
       "      <td>S007</td>\n",
       "      <td>U005</td>\n",
       "      <td>Grilled Chicken</td>\n",
       "      <td>Dinner</td>\n",
       "      <td>2024-12-04 18:00:00</td>\n",
       "      <td>2024-12-04 18:45:00</td>\n",
       "      <td>45</td>\n",
       "      <td>4.6</td>\n",
       "    </tr>\n",
       "    <tr>\n",
       "      <th>7</th>\n",
       "      <td>S008</td>\n",
       "      <td>U003</td>\n",
       "      <td>Veggie Burger</td>\n",
       "      <td>Lunch</td>\n",
       "      <td>2024-12-04 13:30:00</td>\n",
       "      <td>2024-12-04 13:50:00</td>\n",
       "      <td>20</td>\n",
       "      <td>4.4</td>\n",
       "    </tr>\n",
       "    <tr>\n",
       "      <th>8</th>\n",
       "      <td>S009</td>\n",
       "      <td>U001</td>\n",
       "      <td>Grilled Chicken</td>\n",
       "      <td>Dinner</td>\n",
       "      <td>2024-12-05 19:00:00</td>\n",
       "      <td>2024-12-05 19:40:00</td>\n",
       "      <td>40</td>\n",
       "      <td>4.9</td>\n",
       "    </tr>\n",
       "    <tr>\n",
       "      <th>9</th>\n",
       "      <td>S010</td>\n",
       "      <td>U002</td>\n",
       "      <td>Oatmeal</td>\n",
       "      <td>Breakfast</td>\n",
       "      <td>2024-12-05 07:00:00</td>\n",
       "      <td>2024-12-05 07:10:00</td>\n",
       "      <td>10</td>\n",
       "      <td>4.1</td>\n",
       "    </tr>\n",
       "    <tr>\n",
       "      <th>10</th>\n",
       "      <td>S011</td>\n",
       "      <td>U003</td>\n",
       "      <td>Pancakes</td>\n",
       "      <td>Breakfast</td>\n",
       "      <td>2024-12-06 08:00:00</td>\n",
       "      <td>2024-12-06 08:30:00</td>\n",
       "      <td>30</td>\n",
       "      <td>4.6</td>\n",
       "    </tr>\n",
       "    <tr>\n",
       "      <th>11</th>\n",
       "      <td>S012</td>\n",
       "      <td>U004</td>\n",
       "      <td>Spaghetti</td>\n",
       "      <td>Dinner</td>\n",
       "      <td>2024-12-06 19:00:00</td>\n",
       "      <td>2024-12-06 19:40:00</td>\n",
       "      <td>40</td>\n",
       "      <td>4.7</td>\n",
       "    </tr>\n",
       "    <tr>\n",
       "      <th>12</th>\n",
       "      <td>S013</td>\n",
       "      <td>U005</td>\n",
       "      <td>Caesar Salad</td>\n",
       "      <td>Lunch</td>\n",
       "      <td>2024-12-07 12:30:00</td>\n",
       "      <td>2024-12-07 13:00:00</td>\n",
       "      <td>30</td>\n",
       "      <td>4.4</td>\n",
       "    </tr>\n",
       "    <tr>\n",
       "      <th>13</th>\n",
       "      <td>S014</td>\n",
       "      <td>U006</td>\n",
       "      <td>Grilled Chicken</td>\n",
       "      <td>Dinner</td>\n",
       "      <td>2024-12-07 18:00:00</td>\n",
       "      <td>2024-12-07 18:45:00</td>\n",
       "      <td>45</td>\n",
       "      <td>4.8</td>\n",
       "    </tr>\n",
       "    <tr>\n",
       "      <th>14</th>\n",
       "      <td>S015</td>\n",
       "      <td>U007</td>\n",
       "      <td>Spaghetti</td>\n",
       "      <td>Dinner</td>\n",
       "      <td>2024-12-08 19:30:00</td>\n",
       "      <td>2024-12-08 20:10:00</td>\n",
       "      <td>40</td>\n",
       "      <td>5.0</td>\n",
       "    </tr>\n",
       "    <tr>\n",
       "      <th>15</th>\n",
       "      <td>S016</td>\n",
       "      <td>U008</td>\n",
       "      <td>Veggie Burger</td>\n",
       "      <td>Lunch</td>\n",
       "      <td>2024-12-08 13:30:00</td>\n",
       "      <td>2024-12-08 13:50:00</td>\n",
       "      <td>20</td>\n",
       "      <td>4.3</td>\n",
       "    </tr>\n",
       "  </tbody>\n",
       "</table>\n",
       "</div>"
      ],
      "text/plain": [
       "   Session ID User ID        Dish Name  Meal Type       Session Start  \\\n",
       "0        S001    U001        Spaghetti     Dinner 2024-12-01 19:00:00   \n",
       "1        S002    U002     Caesar Salad      Lunch 2024-12-01 12:00:00   \n",
       "2        S003    U003  Grilled Chicken     Dinner 2024-12-02 19:30:00   \n",
       "3        S004    U001         Pancakes  Breakfast 2024-12-02 07:30:00   \n",
       "4        S005    U004     Caesar Salad      Lunch 2024-12-03 13:00:00   \n",
       "5        S006    U002        Spaghetti     Dinner 2024-12-03 18:30:00   \n",
       "6        S007    U005  Grilled Chicken     Dinner 2024-12-04 18:00:00   \n",
       "7        S008    U003    Veggie Burger      Lunch 2024-12-04 13:30:00   \n",
       "8        S009    U001  Grilled Chicken     Dinner 2024-12-05 19:00:00   \n",
       "9        S010    U002          Oatmeal  Breakfast 2024-12-05 07:00:00   \n",
       "10       S011    U003         Pancakes  Breakfast 2024-12-06 08:00:00   \n",
       "11       S012    U004        Spaghetti     Dinner 2024-12-06 19:00:00   \n",
       "12       S013    U005     Caesar Salad      Lunch 2024-12-07 12:30:00   \n",
       "13       S014    U006  Grilled Chicken     Dinner 2024-12-07 18:00:00   \n",
       "14       S015    U007        Spaghetti     Dinner 2024-12-08 19:30:00   \n",
       "15       S016    U008    Veggie Burger      Lunch 2024-12-08 13:30:00   \n",
       "\n",
       "           Session End  Duration (mins)  Session Rating  \n",
       "0  2024-12-01 19:30:00               30             4.5  \n",
       "1  2024-12-01 12:20:00               20             4.0  \n",
       "2  2024-12-02 20:10:00               40             4.8  \n",
       "3  2024-12-02 08:00:00               30             4.2  \n",
       "4  2024-12-03 13:15:00               15             4.7  \n",
       "5  2024-12-03 19:00:00               30             4.3  \n",
       "6  2024-12-04 18:45:00               45             4.6  \n",
       "7  2024-12-04 13:50:00               20             4.4  \n",
       "8  2024-12-05 19:40:00               40             4.9  \n",
       "9  2024-12-05 07:10:00               10             4.1  \n",
       "10 2024-12-06 08:30:00               30             4.6  \n",
       "11 2024-12-06 19:40:00               40             4.7  \n",
       "12 2024-12-07 13:00:00               30             4.4  \n",
       "13 2024-12-07 18:45:00               45             4.8  \n",
       "14 2024-12-08 20:10:00               40             5.0  \n",
       "15 2024-12-08 13:50:00               20             4.3  "
      ]
     },
     "execution_count": 10,
     "metadata": {},
     "output_type": "execute_result"
    }
   ],
   "source": [
    "CookingSessions"
   ]
  },
  {
   "cell_type": "markdown",
   "id": "9d9eda83-05b4-4bfd-9fc4-fcc385841150",
   "metadata": {},
   "source": [
    "`EDA`"
   ]
  },
  {
   "cell_type": "code",
   "execution_count": 11,
   "id": "955e9d94-c5ae-4dc1-8ff3-10c4d022ba30",
   "metadata": {},
   "outputs": [
    {
     "name": "stdout",
     "output_type": "stream",
     "text": [
      "<class 'pandas.core.frame.DataFrame'>\n",
      "RangeIndex: 16 entries, 0 to 15\n",
      "Data columns (total 8 columns):\n",
      " #   Column           Non-Null Count  Dtype         \n",
      "---  ------           --------------  -----         \n",
      " 0   Session ID       16 non-null     object        \n",
      " 1   User ID          16 non-null     object        \n",
      " 2   Dish Name        16 non-null     object        \n",
      " 3   Meal Type        16 non-null     object        \n",
      " 4   Session Start    16 non-null     datetime64[ns]\n",
      " 5   Session End      16 non-null     datetime64[ns]\n",
      " 6   Duration (mins)  16 non-null     int64         \n",
      " 7   Session Rating   16 non-null     float64       \n",
      "dtypes: datetime64[ns](2), float64(1), int64(1), object(4)\n",
      "memory usage: 1.1+ KB\n"
     ]
    }
   ],
   "source": [
    "CookingSessions.info()"
   ]
  },
  {
   "cell_type": "code",
   "execution_count": 12,
   "id": "5158ea71-7c4c-407d-a0f0-383d273abddf",
   "metadata": {},
   "outputs": [
    {
     "data": {
      "text/plain": [
       "0"
      ]
     },
     "execution_count": 12,
     "metadata": {},
     "output_type": "execute_result"
    }
   ],
   "source": [
    "CookingSessions.isnull().sum().sum()"
   ]
  },
  {
   "cell_type": "code",
   "execution_count": 13,
   "id": "51ef3efc-a2a9-48e8-92cb-60f2b314186b",
   "metadata": {},
   "outputs": [
    {
     "data": {
      "text/plain": [
       "0"
      ]
     },
     "execution_count": 13,
     "metadata": {},
     "output_type": "execute_result"
    }
   ],
   "source": [
    "CookingSessions.duplicated().sum()"
   ]
  },
  {
   "cell_type": "markdown",
   "id": "8aebd89d-2c39-498f-b094-75612edf1339",
   "metadata": {},
   "source": [
    "`No null or duplicate values present`"
   ]
  },
  {
   "cell_type": "markdown",
   "id": "5cf55def-5898-4ff7-ae60-dfebe4493183",
   "metadata": {},
   "source": [
    "---------------------------------------------------------------------------------------------------------------------------------"
   ]
  },
  {
   "cell_type": "code",
   "execution_count": 14,
   "id": "972440bc-58ac-43be-a678-b3817a4b8987",
   "metadata": {},
   "outputs": [],
   "source": [
    "OrderDetails = pd.read_excel('Assignment.xlsx', sheet_name= 'OrderDetails.csv')"
   ]
  },
  {
   "cell_type": "code",
   "execution_count": 15,
   "id": "65996416-fc15-4cb3-b43e-87d7c9870610",
   "metadata": {},
   "outputs": [
    {
     "data": {
      "text/html": [
       "<div>\n",
       "<style scoped>\n",
       "    .dataframe tbody tr th:only-of-type {\n",
       "        vertical-align: middle;\n",
       "    }\n",
       "\n",
       "    .dataframe tbody tr th {\n",
       "        vertical-align: top;\n",
       "    }\n",
       "\n",
       "    .dataframe thead th {\n",
       "        text-align: right;\n",
       "    }\n",
       "</style>\n",
       "<table border=\"1\" class=\"dataframe\">\n",
       "  <thead>\n",
       "    <tr style=\"text-align: right;\">\n",
       "      <th></th>\n",
       "      <th>Order ID</th>\n",
       "      <th>User ID</th>\n",
       "      <th>Order Date</th>\n",
       "      <th>Meal Type</th>\n",
       "      <th>Dish Name</th>\n",
       "      <th>Order Status</th>\n",
       "      <th>Amount (USD)</th>\n",
       "      <th>Time of Day</th>\n",
       "      <th>Rating</th>\n",
       "      <th>Session ID</th>\n",
       "    </tr>\n",
       "  </thead>\n",
       "  <tbody>\n",
       "    <tr>\n",
       "      <th>0</th>\n",
       "      <td>1001</td>\n",
       "      <td>U001</td>\n",
       "      <td>2024-12-01</td>\n",
       "      <td>Dinner</td>\n",
       "      <td>Spaghetti</td>\n",
       "      <td>Completed</td>\n",
       "      <td>15.0</td>\n",
       "      <td>Night</td>\n",
       "      <td>5.0</td>\n",
       "      <td>S001</td>\n",
       "    </tr>\n",
       "    <tr>\n",
       "      <th>1</th>\n",
       "      <td>1002</td>\n",
       "      <td>U002</td>\n",
       "      <td>2024-12-01</td>\n",
       "      <td>Lunch</td>\n",
       "      <td>Caesar Salad</td>\n",
       "      <td>Completed</td>\n",
       "      <td>10.0</td>\n",
       "      <td>Day</td>\n",
       "      <td>4.0</td>\n",
       "      <td>S002</td>\n",
       "    </tr>\n",
       "    <tr>\n",
       "      <th>2</th>\n",
       "      <td>1003</td>\n",
       "      <td>U003</td>\n",
       "      <td>2024-12-02</td>\n",
       "      <td>Dinner</td>\n",
       "      <td>Grilled Chicken</td>\n",
       "      <td>Canceled</td>\n",
       "      <td>12.5</td>\n",
       "      <td>Night</td>\n",
       "      <td>NaN</td>\n",
       "      <td>S003</td>\n",
       "    </tr>\n",
       "    <tr>\n",
       "      <th>3</th>\n",
       "      <td>1004</td>\n",
       "      <td>U001</td>\n",
       "      <td>2024-12-02</td>\n",
       "      <td>Breakfast</td>\n",
       "      <td>Pancakes</td>\n",
       "      <td>Completed</td>\n",
       "      <td>8.0</td>\n",
       "      <td>Morning</td>\n",
       "      <td>4.0</td>\n",
       "      <td>S004</td>\n",
       "    </tr>\n",
       "    <tr>\n",
       "      <th>4</th>\n",
       "      <td>1005</td>\n",
       "      <td>U004</td>\n",
       "      <td>2024-12-03</td>\n",
       "      <td>Lunch</td>\n",
       "      <td>Caesar Salad</td>\n",
       "      <td>Completed</td>\n",
       "      <td>9.0</td>\n",
       "      <td>Day</td>\n",
       "      <td>4.0</td>\n",
       "      <td>S005</td>\n",
       "    </tr>\n",
       "    <tr>\n",
       "      <th>5</th>\n",
       "      <td>1006</td>\n",
       "      <td>U002</td>\n",
       "      <td>2024-12-03</td>\n",
       "      <td>Dinner</td>\n",
       "      <td>Spaghetti</td>\n",
       "      <td>Completed</td>\n",
       "      <td>14.0</td>\n",
       "      <td>Night</td>\n",
       "      <td>4.0</td>\n",
       "      <td>S006</td>\n",
       "    </tr>\n",
       "    <tr>\n",
       "      <th>6</th>\n",
       "      <td>1007</td>\n",
       "      <td>U005</td>\n",
       "      <td>2024-12-04</td>\n",
       "      <td>Dinner</td>\n",
       "      <td>Grilled Chicken</td>\n",
       "      <td>Completed</td>\n",
       "      <td>13.5</td>\n",
       "      <td>Night</td>\n",
       "      <td>4.0</td>\n",
       "      <td>S007</td>\n",
       "    </tr>\n",
       "    <tr>\n",
       "      <th>7</th>\n",
       "      <td>1008</td>\n",
       "      <td>U003</td>\n",
       "      <td>2024-12-04</td>\n",
       "      <td>Lunch</td>\n",
       "      <td>Veggie Burger</td>\n",
       "      <td>Canceled</td>\n",
       "      <td>11.0</td>\n",
       "      <td>Day</td>\n",
       "      <td>NaN</td>\n",
       "      <td>S008</td>\n",
       "    </tr>\n",
       "    <tr>\n",
       "      <th>8</th>\n",
       "      <td>1009</td>\n",
       "      <td>U001</td>\n",
       "      <td>2024-12-05</td>\n",
       "      <td>Dinner</td>\n",
       "      <td>Grilled Chicken</td>\n",
       "      <td>Completed</td>\n",
       "      <td>12.0</td>\n",
       "      <td>Night</td>\n",
       "      <td>5.0</td>\n",
       "      <td>S009</td>\n",
       "    </tr>\n",
       "    <tr>\n",
       "      <th>9</th>\n",
       "      <td>1010</td>\n",
       "      <td>U002</td>\n",
       "      <td>2024-12-05</td>\n",
       "      <td>Breakfast</td>\n",
       "      <td>Oatmeal</td>\n",
       "      <td>Completed</td>\n",
       "      <td>7.0</td>\n",
       "      <td>Morning</td>\n",
       "      <td>4.0</td>\n",
       "      <td>S010</td>\n",
       "    </tr>\n",
       "    <tr>\n",
       "      <th>10</th>\n",
       "      <td>1011</td>\n",
       "      <td>U003</td>\n",
       "      <td>2024-12-06</td>\n",
       "      <td>Breakfast</td>\n",
       "      <td>Pancakes</td>\n",
       "      <td>Completed</td>\n",
       "      <td>8.5</td>\n",
       "      <td>Morning</td>\n",
       "      <td>4.0</td>\n",
       "      <td>S011</td>\n",
       "    </tr>\n",
       "    <tr>\n",
       "      <th>11</th>\n",
       "      <td>1012</td>\n",
       "      <td>U004</td>\n",
       "      <td>2024-12-06</td>\n",
       "      <td>Dinner</td>\n",
       "      <td>Spaghetti</td>\n",
       "      <td>Completed</td>\n",
       "      <td>12.5</td>\n",
       "      <td>Night</td>\n",
       "      <td>4.0</td>\n",
       "      <td>S012</td>\n",
       "    </tr>\n",
       "    <tr>\n",
       "      <th>12</th>\n",
       "      <td>1013</td>\n",
       "      <td>U005</td>\n",
       "      <td>2024-12-07</td>\n",
       "      <td>Lunch</td>\n",
       "      <td>Caesar Salad</td>\n",
       "      <td>Completed</td>\n",
       "      <td>9.0</td>\n",
       "      <td>Day</td>\n",
       "      <td>4.0</td>\n",
       "      <td>S013</td>\n",
       "    </tr>\n",
       "    <tr>\n",
       "      <th>13</th>\n",
       "      <td>1014</td>\n",
       "      <td>U006</td>\n",
       "      <td>2024-12-07</td>\n",
       "      <td>Dinner</td>\n",
       "      <td>Grilled Chicken</td>\n",
       "      <td>Completed</td>\n",
       "      <td>13.0</td>\n",
       "      <td>Night</td>\n",
       "      <td>5.0</td>\n",
       "      <td>S014</td>\n",
       "    </tr>\n",
       "    <tr>\n",
       "      <th>14</th>\n",
       "      <td>1015</td>\n",
       "      <td>U007</td>\n",
       "      <td>2024-12-08</td>\n",
       "      <td>Dinner</td>\n",
       "      <td>Spaghetti</td>\n",
       "      <td>Completed</td>\n",
       "      <td>14.0</td>\n",
       "      <td>Night</td>\n",
       "      <td>5.0</td>\n",
       "      <td>S015</td>\n",
       "    </tr>\n",
       "    <tr>\n",
       "      <th>15</th>\n",
       "      <td>1016</td>\n",
       "      <td>U008</td>\n",
       "      <td>2024-12-08</td>\n",
       "      <td>Lunch</td>\n",
       "      <td>Veggie Burger</td>\n",
       "      <td>Completed</td>\n",
       "      <td>11.0</td>\n",
       "      <td>Day</td>\n",
       "      <td>4.0</td>\n",
       "      <td>S016</td>\n",
       "    </tr>\n",
       "  </tbody>\n",
       "</table>\n",
       "</div>"
      ],
      "text/plain": [
       "    Order ID User ID Order Date  Meal Type        Dish Name Order Status  \\\n",
       "0       1001    U001 2024-12-01     Dinner        Spaghetti    Completed   \n",
       "1       1002    U002 2024-12-01      Lunch     Caesar Salad    Completed   \n",
       "2       1003    U003 2024-12-02     Dinner  Grilled Chicken     Canceled   \n",
       "3       1004    U001 2024-12-02  Breakfast         Pancakes    Completed   \n",
       "4       1005    U004 2024-12-03      Lunch     Caesar Salad    Completed   \n",
       "5       1006    U002 2024-12-03     Dinner        Spaghetti    Completed   \n",
       "6       1007    U005 2024-12-04     Dinner  Grilled Chicken    Completed   \n",
       "7       1008    U003 2024-12-04      Lunch    Veggie Burger     Canceled   \n",
       "8       1009    U001 2024-12-05     Dinner  Grilled Chicken    Completed   \n",
       "9       1010    U002 2024-12-05  Breakfast          Oatmeal    Completed   \n",
       "10      1011    U003 2024-12-06  Breakfast         Pancakes    Completed   \n",
       "11      1012    U004 2024-12-06     Dinner        Spaghetti    Completed   \n",
       "12      1013    U005 2024-12-07      Lunch     Caesar Salad    Completed   \n",
       "13      1014    U006 2024-12-07     Dinner  Grilled Chicken    Completed   \n",
       "14      1015    U007 2024-12-08     Dinner        Spaghetti    Completed   \n",
       "15      1016    U008 2024-12-08      Lunch    Veggie Burger    Completed   \n",
       "\n",
       "    Amount (USD) Time of Day  Rating Session ID  \n",
       "0           15.0       Night     5.0       S001  \n",
       "1           10.0         Day     4.0       S002  \n",
       "2           12.5       Night     NaN       S003  \n",
       "3            8.0     Morning     4.0       S004  \n",
       "4            9.0         Day     4.0       S005  \n",
       "5           14.0       Night     4.0       S006  \n",
       "6           13.5       Night     4.0       S007  \n",
       "7           11.0         Day     NaN       S008  \n",
       "8           12.0       Night     5.0       S009  \n",
       "9            7.0     Morning     4.0       S010  \n",
       "10           8.5     Morning     4.0       S011  \n",
       "11          12.5       Night     4.0       S012  \n",
       "12           9.0         Day     4.0       S013  \n",
       "13          13.0       Night     5.0       S014  \n",
       "14          14.0       Night     5.0       S015  \n",
       "15          11.0         Day     4.0       S016  "
      ]
     },
     "execution_count": 15,
     "metadata": {},
     "output_type": "execute_result"
    }
   ],
   "source": [
    "OrderDetails"
   ]
  },
  {
   "cell_type": "markdown",
   "id": "a7b1b253-1e43-45de-b8e8-58ef2a8328c0",
   "metadata": {},
   "source": [
    "`EDA`"
   ]
  },
  {
   "cell_type": "code",
   "execution_count": 16,
   "id": "cb796f00-4842-46c5-8c7b-22cf020ba196",
   "metadata": {},
   "outputs": [
    {
     "name": "stdout",
     "output_type": "stream",
     "text": [
      "<class 'pandas.core.frame.DataFrame'>\n",
      "RangeIndex: 16 entries, 0 to 15\n",
      "Data columns (total 10 columns):\n",
      " #   Column        Non-Null Count  Dtype         \n",
      "---  ------        --------------  -----         \n",
      " 0   Order ID      16 non-null     int64         \n",
      " 1   User ID       16 non-null     object        \n",
      " 2   Order Date    16 non-null     datetime64[ns]\n",
      " 3   Meal Type     16 non-null     object        \n",
      " 4   Dish Name     16 non-null     object        \n",
      " 5   Order Status  16 non-null     object        \n",
      " 6   Amount (USD)  16 non-null     float64       \n",
      " 7   Time of Day   16 non-null     object        \n",
      " 8   Rating        14 non-null     float64       \n",
      " 9   Session ID    16 non-null     object        \n",
      "dtypes: datetime64[ns](1), float64(2), int64(1), object(6)\n",
      "memory usage: 1.4+ KB\n"
     ]
    }
   ],
   "source": [
    "OrderDetails.info()"
   ]
  },
  {
   "cell_type": "code",
   "execution_count": 17,
   "id": "79ecf0b0-9c2b-46aa-a879-96fceac1c622",
   "metadata": {},
   "outputs": [
    {
     "data": {
      "text/plain": [
       "2"
      ]
     },
     "execution_count": 17,
     "metadata": {},
     "output_type": "execute_result"
    }
   ],
   "source": [
    "OrderDetails.isnull().sum().sum()"
   ]
  },
  {
   "cell_type": "code",
   "execution_count": 18,
   "id": "877486f4-b009-405d-8772-399cf720822b",
   "metadata": {},
   "outputs": [
    {
     "data": {
      "text/plain": [
       "[]"
      ]
     },
     "execution_count": 18,
     "metadata": {},
     "output_type": "execute_result"
    },
    {
     "data": {
      "image/png": "[encoded data removed]",
      "text/plain": [
       "<Figure size 400x200 with 1 Axes>"
      ]
     },
     "metadata": {},
     "output_type": "display_data"
    }
   ],
   "source": [
    "plt.figure(figsize= (4,2))\n",
    "sns.histplot(OrderDetails['Rating'], kde = True)\n",
    "plt.plot()"
   ]
  },
  {
   "cell_type": "code",
   "execution_count": 19,
   "id": "6e2f6dcf-a2f6-4793-808e-555feaaae8dc",
   "metadata": {},
   "outputs": [],
   "source": [
    "OrderDetails.fillna(OrderDetails['Rating'].median(), inplace=True)"
   ]
  },
  {
   "cell_type": "code",
   "execution_count": 20,
   "id": "5889df1a-7fd2-40eb-a34a-a47804e1a439",
   "metadata": {},
   "outputs": [
    {
     "data": {
      "text/plain": [
       "0"
      ]
     },
     "execution_count": 20,
     "metadata": {},
     "output_type": "execute_result"
    }
   ],
   "source": [
    "OrderDetails.duplicated().sum()"
   ]
  },
  {
   "cell_type": "markdown",
   "id": "ba845912-72c2-453c-b689-d44f20a632ab",
   "metadata": {},
   "source": [
    "`2. Data Merging`"
   ]
  },
  {
   "cell_type": "code",
   "execution_count": 21,
   "id": "57ddb048-7bc5-4e34-a605-a0ec73988190",
   "metadata": {},
   "outputs": [],
   "source": [
    "merge_data = CookingSessions.merge(OrderDetails, on= 'Session ID', how = 'left')"
   ]
  },
  {
   "cell_type": "code",
   "execution_count": 22,
   "id": "1f4fd94c-abd9-422b-a494-aeeb22aeece1",
   "metadata": {},
   "outputs": [
    {
     "data": {
      "text/html": [
       "<div>\n",
       "<style scoped>\n",
       "    .dataframe tbody tr th:only-of-type {\n",
       "        vertical-align: middle;\n",
       "    }\n",
       "\n",
       "    .dataframe tbody tr th {\n",
       "        vertical-align: top;\n",
       "    }\n",
       "\n",
       "    .dataframe thead th {\n",
       "        text-align: right;\n",
       "    }\n",
       "</style>\n",
       "<table border=\"1\" class=\"dataframe\">\n",
       "  <thead>\n",
       "    <tr style=\"text-align: right;\">\n",
       "      <th></th>\n",
       "      <th>Session ID</th>\n",
       "      <th>User ID_x</th>\n",
       "      <th>Dish Name_x</th>\n",
       "      <th>Meal Type_x</th>\n",
       "      <th>Session Start</th>\n",
       "      <th>Session End</th>\n",
       "      <th>Duration (mins)</th>\n",
       "      <th>Session Rating</th>\n",
       "      <th>Order ID</th>\n",
       "      <th>User ID_y</th>\n",
       "      <th>Order Date</th>\n",
       "      <th>Meal Type_y</th>\n",
       "      <th>Dish Name_y</th>\n",
       "      <th>Order Status</th>\n",
       "      <th>Amount (USD)</th>\n",
       "      <th>Time of Day</th>\n",
       "      <th>Rating</th>\n",
       "    </tr>\n",
       "  </thead>\n",
       "  <tbody>\n",
       "    <tr>\n",
       "      <th>0</th>\n",
       "      <td>S001</td>\n",
       "      <td>U001</td>\n",
       "      <td>Spaghetti</td>\n",
       "      <td>Dinner</td>\n",
       "      <td>2024-12-01 19:00:00</td>\n",
       "      <td>2024-12-01 19:30:00</td>\n",
       "      <td>30</td>\n",
       "      <td>4.5</td>\n",
       "      <td>1001</td>\n",
       "      <td>U001</td>\n",
       "      <td>2024-12-01</td>\n",
       "      <td>Dinner</td>\n",
       "      <td>Spaghetti</td>\n",
       "      <td>Completed</td>\n",
       "      <td>15.0</td>\n",
       "      <td>Night</td>\n",
       "      <td>5.0</td>\n",
       "    </tr>\n",
       "    <tr>\n",
       "      <th>1</th>\n",
       "      <td>S002</td>\n",
       "      <td>U002</td>\n",
       "      <td>Caesar Salad</td>\n",
       "      <td>Lunch</td>\n",
       "      <td>2024-12-01 12:00:00</td>\n",
       "      <td>2024-12-01 12:20:00</td>\n",
       "      <td>20</td>\n",
       "      <td>4.0</td>\n",
       "      <td>1002</td>\n",
       "      <td>U002</td>\n",
       "      <td>2024-12-01</td>\n",
       "      <td>Lunch</td>\n",
       "      <td>Caesar Salad</td>\n",
       "      <td>Completed</td>\n",
       "      <td>10.0</td>\n",
       "      <td>Day</td>\n",
       "      <td>4.0</td>\n",
       "    </tr>\n",
       "    <tr>\n",
       "      <th>2</th>\n",
       "      <td>S003</td>\n",
       "      <td>U003</td>\n",
       "      <td>Grilled Chicken</td>\n",
       "      <td>Dinner</td>\n",
       "      <td>2024-12-02 19:30:00</td>\n",
       "      <td>2024-12-02 20:10:00</td>\n",
       "      <td>40</td>\n",
       "      <td>4.8</td>\n",
       "      <td>1003</td>\n",
       "      <td>U003</td>\n",
       "      <td>2024-12-02</td>\n",
       "      <td>Dinner</td>\n",
       "      <td>Grilled Chicken</td>\n",
       "      <td>Canceled</td>\n",
       "      <td>12.5</td>\n",
       "      <td>Night</td>\n",
       "      <td>4.0</td>\n",
       "    </tr>\n",
       "    <tr>\n",
       "      <th>3</th>\n",
       "      <td>S004</td>\n",
       "      <td>U001</td>\n",
       "      <td>Pancakes</td>\n",
       "      <td>Breakfast</td>\n",
       "      <td>2024-12-02 07:30:00</td>\n",
       "      <td>2024-12-02 08:00:00</td>\n",
       "      <td>30</td>\n",
       "      <td>4.2</td>\n",
       "      <td>1004</td>\n",
       "      <td>U001</td>\n",
       "      <td>2024-12-02</td>\n",
       "      <td>Breakfast</td>\n",
       "      <td>Pancakes</td>\n",
       "      <td>Completed</td>\n",
       "      <td>8.0</td>\n",
       "      <td>Morning</td>\n",
       "      <td>4.0</td>\n",
       "    </tr>\n",
       "    <tr>\n",
       "      <th>4</th>\n",
       "      <td>S005</td>\n",
       "      <td>U004</td>\n",
       "      <td>Caesar Salad</td>\n",
       "      <td>Lunch</td>\n",
       "      <td>2024-12-03 13:00:00</td>\n",
       "      <td>2024-12-03 13:15:00</td>\n",
       "      <td>15</td>\n",
       "      <td>4.7</td>\n",
       "      <td>1005</td>\n",
       "      <td>U004</td>\n",
       "      <td>2024-12-03</td>\n",
       "      <td>Lunch</td>\n",
       "      <td>Caesar Salad</td>\n",
       "      <td>Completed</td>\n",
       "      <td>9.0</td>\n",
       "      <td>Day</td>\n",
       "      <td>4.0</td>\n",
       "    </tr>\n",
       "  </tbody>\n",
       "</table>\n",
       "</div>"
      ],
      "text/plain": [
       "  Session ID User ID_x      Dish Name_x Meal Type_x       Session Start  \\\n",
       "0       S001      U001        Spaghetti      Dinner 2024-12-01 19:00:00   \n",
       "1       S002      U002     Caesar Salad       Lunch 2024-12-01 12:00:00   \n",
       "2       S003      U003  Grilled Chicken      Dinner 2024-12-02 19:30:00   \n",
       "3       S004      U001         Pancakes   Breakfast 2024-12-02 07:30:00   \n",
       "4       S005      U004     Caesar Salad       Lunch 2024-12-03 13:00:00   \n",
       "\n",
       "          Session End  Duration (mins)  Session Rating  Order ID User ID_y  \\\n",
       "0 2024-12-01 19:30:00               30             4.5      1001      U001   \n",
       "1 2024-12-01 12:20:00               20             4.0      1002      U002   \n",
       "2 2024-12-02 20:10:00               40             4.8      1003      U003   \n",
       "3 2024-12-02 08:00:00               30             4.2      1004      U001   \n",
       "4 2024-12-03 13:15:00               15             4.7      1005      U004   \n",
       "\n",
       "  Order Date Meal Type_y      Dish Name_y Order Status  Amount (USD)  \\\n",
       "0 2024-12-01      Dinner        Spaghetti    Completed          15.0   \n",
       "1 2024-12-01       Lunch     Caesar Salad    Completed          10.0   \n",
       "2 2024-12-02      Dinner  Grilled Chicken     Canceled          12.5   \n",
       "3 2024-12-02   Breakfast         Pancakes    Completed           8.0   \n",
       "4 2024-12-03       Lunch     Caesar Salad    Completed           9.0   \n",
       "\n",
       "  Time of Day  Rating  \n",
       "0       Night     5.0  \n",
       "1         Day     4.0  \n",
       "2       Night     4.0  \n",
       "3     Morning     4.0  \n",
       "4         Day     4.0  "
      ]
     },
     "execution_count": 22,
     "metadata": {},
     "output_type": "execute_result"
    }
   ],
   "source": [
    "merge_data.head()"
   ]
  },
  {
   "cell_type": "code",
   "execution_count": 23,
   "id": "42b8292a-6049-427f-9b6f-4f5916b7a4e4",
   "metadata": {},
   "outputs": [],
   "source": [
    "merge_data.drop(columns= ['User ID_y', 'Meal Type_y', 'Dish Name_y'], inplace=True) #dropping repeated columns"
   ]
  },
  {
   "cell_type": "code",
   "execution_count": 24,
   "id": "fd5cb84a-b5df-491a-8226-5845cdfc1717",
   "metadata": {},
   "outputs": [],
   "source": [
    "merge_data.rename(columns={'User ID_x' : 'User ID', 'Meal Type_x' : 'Meal Type', 'Dish Name_x': 'Dish Name'}, inplace=True)"
   ]
  },
  {
   "cell_type": "code",
   "execution_count": 25,
   "id": "6e5f01b4-637d-44ff-a8ad-fbc838668291",
   "metadata": {},
   "outputs": [
    {
     "data": {
      "text/html": [
       "<div>\n",
       "<style scoped>\n",
       "    .dataframe tbody tr th:only-of-type {\n",
       "        vertical-align: middle;\n",
       "    }\n",
       "\n",
       "    .dataframe tbody tr th {\n",
       "        vertical-align: top;\n",
       "    }\n",
       "\n",
       "    .dataframe thead th {\n",
       "        text-align: right;\n",
       "    }\n",
       "</style>\n",
       "<table border=\"1\" class=\"dataframe\">\n",
       "  <thead>\n",
       "    <tr style=\"text-align: right;\">\n",
       "      <th></th>\n",
       "      <th>Session ID</th>\n",
       "      <th>User ID</th>\n",
       "      <th>Dish Name</th>\n",
       "      <th>Meal Type</th>\n",
       "      <th>Session Start</th>\n",
       "      <th>Session End</th>\n",
       "      <th>Duration (mins)</th>\n",
       "      <th>Session Rating</th>\n",
       "      <th>Order ID</th>\n",
       "      <th>Order Date</th>\n",
       "      <th>Order Status</th>\n",
       "      <th>Amount (USD)</th>\n",
       "      <th>Time of Day</th>\n",
       "      <th>Rating</th>\n",
       "    </tr>\n",
       "  </thead>\n",
       "  <tbody>\n",
       "    <tr>\n",
       "      <th>0</th>\n",
       "      <td>S001</td>\n",
       "      <td>U001</td>\n",
       "      <td>Spaghetti</td>\n",
       "      <td>Dinner</td>\n",
       "      <td>2024-12-01 19:00:00</td>\n",
       "      <td>2024-12-01 19:30:00</td>\n",
       "      <td>30</td>\n",
       "      <td>4.5</td>\n",
       "      <td>1001</td>\n",
       "      <td>2024-12-01</td>\n",
       "      <td>Completed</td>\n",
       "      <td>15.0</td>\n",
       "      <td>Night</td>\n",
       "      <td>5.0</td>\n",
       "    </tr>\n",
       "    <tr>\n",
       "      <th>1</th>\n",
       "      <td>S002</td>\n",
       "      <td>U002</td>\n",
       "      <td>Caesar Salad</td>\n",
       "      <td>Lunch</td>\n",
       "      <td>2024-12-01 12:00:00</td>\n",
       "      <td>2024-12-01 12:20:00</td>\n",
       "      <td>20</td>\n",
       "      <td>4.0</td>\n",
       "      <td>1002</td>\n",
       "      <td>2024-12-01</td>\n",
       "      <td>Completed</td>\n",
       "      <td>10.0</td>\n",
       "      <td>Day</td>\n",
       "      <td>4.0</td>\n",
       "    </tr>\n",
       "    <tr>\n",
       "      <th>2</th>\n",
       "      <td>S003</td>\n",
       "      <td>U003</td>\n",
       "      <td>Grilled Chicken</td>\n",
       "      <td>Dinner</td>\n",
       "      <td>2024-12-02 19:30:00</td>\n",
       "      <td>2024-12-02 20:10:00</td>\n",
       "      <td>40</td>\n",
       "      <td>4.8</td>\n",
       "      <td>1003</td>\n",
       "      <td>2024-12-02</td>\n",
       "      <td>Canceled</td>\n",
       "      <td>12.5</td>\n",
       "      <td>Night</td>\n",
       "      <td>4.0</td>\n",
       "    </tr>\n",
       "    <tr>\n",
       "      <th>3</th>\n",
       "      <td>S004</td>\n",
       "      <td>U001</td>\n",
       "      <td>Pancakes</td>\n",
       "      <td>Breakfast</td>\n",
       "      <td>2024-12-02 07:30:00</td>\n",
       "      <td>2024-12-02 08:00:00</td>\n",
       "      <td>30</td>\n",
       "      <td>4.2</td>\n",
       "      <td>1004</td>\n",
       "      <td>2024-12-02</td>\n",
       "      <td>Completed</td>\n",
       "      <td>8.0</td>\n",
       "      <td>Morning</td>\n",
       "      <td>4.0</td>\n",
       "    </tr>\n",
       "    <tr>\n",
       "      <th>4</th>\n",
       "      <td>S005</td>\n",
       "      <td>U004</td>\n",
       "      <td>Caesar Salad</td>\n",
       "      <td>Lunch</td>\n",
       "      <td>2024-12-03 13:00:00</td>\n",
       "      <td>2024-12-03 13:15:00</td>\n",
       "      <td>15</td>\n",
       "      <td>4.7</td>\n",
       "      <td>1005</td>\n",
       "      <td>2024-12-03</td>\n",
       "      <td>Completed</td>\n",
       "      <td>9.0</td>\n",
       "      <td>Day</td>\n",
       "      <td>4.0</td>\n",
       "    </tr>\n",
       "  </tbody>\n",
       "</table>\n",
       "</div>"
      ],
      "text/plain": [
       "  Session ID User ID        Dish Name  Meal Type       Session Start  \\\n",
       "0       S001    U001        Spaghetti     Dinner 2024-12-01 19:00:00   \n",
       "1       S002    U002     Caesar Salad      Lunch 2024-12-01 12:00:00   \n",
       "2       S003    U003  Grilled Chicken     Dinner 2024-12-02 19:30:00   \n",
       "3       S004    U001         Pancakes  Breakfast 2024-12-02 07:30:00   \n",
       "4       S005    U004     Caesar Salad      Lunch 2024-12-03 13:00:00   \n",
       "\n",
       "          Session End  Duration (mins)  Session Rating  Order ID Order Date  \\\n",
       "0 2024-12-01 19:30:00               30             4.5      1001 2024-12-01   \n",
       "1 2024-12-01 12:20:00               20             4.0      1002 2024-12-01   \n",
       "2 2024-12-02 20:10:00               40             4.8      1003 2024-12-02   \n",
       "3 2024-12-02 08:00:00               30             4.2      1004 2024-12-02   \n",
       "4 2024-12-03 13:15:00               15             4.7      1005 2024-12-03   \n",
       "\n",
       "  Order Status  Amount (USD) Time of Day  Rating  \n",
       "0    Completed          15.0       Night     5.0  \n",
       "1    Completed          10.0         Day     4.0  \n",
       "2     Canceled          12.5       Night     4.0  \n",
       "3    Completed           8.0     Morning     4.0  \n",
       "4    Completed           9.0         Day     4.0  "
      ]
     },
     "execution_count": 25,
     "metadata": {},
     "output_type": "execute_result"
    }
   ],
   "source": [
    "merge_data.head()"
   ]
  },
  {
   "cell_type": "code",
   "execution_count": 26,
   "id": "c33cff18-89e3-4753-a0d2-d308115fd1d3",
   "metadata": {},
   "outputs": [],
   "source": [
    "final_data = merge_data.merge(UserDetails, on= 'User ID', how= 'left')"
   ]
  },
  {
   "cell_type": "code",
   "execution_count": 27,
   "id": "c4531ae1-b876-4604-bf8a-6bd35c726611",
   "metadata": {},
   "outputs": [
    {
     "data": {
      "text/html": [
       "<div>\n",
       "<style scoped>\n",
       "    .dataframe tbody tr th:only-of-type {\n",
       "        vertical-align: middle;\n",
       "    }\n",
       "\n",
       "    .dataframe tbody tr th {\n",
       "        vertical-align: top;\n",
       "    }\n",
       "\n",
       "    .dataframe thead th {\n",
       "        text-align: right;\n",
       "    }\n",
       "</style>\n",
       "<table border=\"1\" class=\"dataframe\">\n",
       "  <thead>\n",
       "    <tr style=\"text-align: right;\">\n",
       "      <th></th>\n",
       "      <th>Session ID</th>\n",
       "      <th>User ID</th>\n",
       "      <th>Dish Name</th>\n",
       "      <th>Meal Type</th>\n",
       "      <th>Session Start</th>\n",
       "      <th>Session End</th>\n",
       "      <th>Duration (mins)</th>\n",
       "      <th>Session Rating</th>\n",
       "      <th>Order ID</th>\n",
       "      <th>Order Date</th>\n",
       "      <th>...</th>\n",
       "      <th>Time of Day</th>\n",
       "      <th>Rating</th>\n",
       "      <th>User Name</th>\n",
       "      <th>Age</th>\n",
       "      <th>Location</th>\n",
       "      <th>Registration Date</th>\n",
       "      <th>Phone</th>\n",
       "      <th>Email</th>\n",
       "      <th>Favorite Meal</th>\n",
       "      <th>Total Orders</th>\n",
       "    </tr>\n",
       "  </thead>\n",
       "  <tbody>\n",
       "    <tr>\n",
       "      <th>0</th>\n",
       "      <td>S001</td>\n",
       "      <td>U001</td>\n",
       "      <td>Spaghetti</td>\n",
       "      <td>Dinner</td>\n",
       "      <td>2024-12-01 19:00:00</td>\n",
       "      <td>2024-12-01 19:30:00</td>\n",
       "      <td>30</td>\n",
       "      <td>4.5</td>\n",
       "      <td>1001</td>\n",
       "      <td>2024-12-01</td>\n",
       "      <td>...</td>\n",
       "      <td>Night</td>\n",
       "      <td>5.0</td>\n",
       "      <td>Alice Johnson</td>\n",
       "      <td>28</td>\n",
       "      <td>New York</td>\n",
       "      <td>2023-01-15</td>\n",
       "      <td>123-456-7890</td>\n",
       "      <td>alice@email.com</td>\n",
       "      <td>Dinner</td>\n",
       "      <td>12</td>\n",
       "    </tr>\n",
       "    <tr>\n",
       "      <th>1</th>\n",
       "      <td>S002</td>\n",
       "      <td>U002</td>\n",
       "      <td>Caesar Salad</td>\n",
       "      <td>Lunch</td>\n",
       "      <td>2024-12-01 12:00:00</td>\n",
       "      <td>2024-12-01 12:20:00</td>\n",
       "      <td>20</td>\n",
       "      <td>4.0</td>\n",
       "      <td>1002</td>\n",
       "      <td>2024-12-01</td>\n",
       "      <td>...</td>\n",
       "      <td>Day</td>\n",
       "      <td>4.0</td>\n",
       "      <td>Bob Smith</td>\n",
       "      <td>35</td>\n",
       "      <td>Los Angeles</td>\n",
       "      <td>2023-02-20</td>\n",
       "      <td>987-654-3210</td>\n",
       "      <td>bob@email.com</td>\n",
       "      <td>Lunch</td>\n",
       "      <td>8</td>\n",
       "    </tr>\n",
       "    <tr>\n",
       "      <th>2</th>\n",
       "      <td>S003</td>\n",
       "      <td>U003</td>\n",
       "      <td>Grilled Chicken</td>\n",
       "      <td>Dinner</td>\n",
       "      <td>2024-12-02 19:30:00</td>\n",
       "      <td>2024-12-02 20:10:00</td>\n",
       "      <td>40</td>\n",
       "      <td>4.8</td>\n",
       "      <td>1003</td>\n",
       "      <td>2024-12-02</td>\n",
       "      <td>...</td>\n",
       "      <td>Night</td>\n",
       "      <td>4.0</td>\n",
       "      <td>Charlie Lee</td>\n",
       "      <td>42</td>\n",
       "      <td>Chicago</td>\n",
       "      <td>2023-03-10</td>\n",
       "      <td>555-123-4567</td>\n",
       "      <td>charlie@email.com</td>\n",
       "      <td>Breakfast</td>\n",
       "      <td>15</td>\n",
       "    </tr>\n",
       "    <tr>\n",
       "      <th>3</th>\n",
       "      <td>S004</td>\n",
       "      <td>U001</td>\n",
       "      <td>Pancakes</td>\n",
       "      <td>Breakfast</td>\n",
       "      <td>2024-12-02 07:30:00</td>\n",
       "      <td>2024-12-02 08:00:00</td>\n",
       "      <td>30</td>\n",
       "      <td>4.2</td>\n",
       "      <td>1004</td>\n",
       "      <td>2024-12-02</td>\n",
       "      <td>...</td>\n",
       "      <td>Morning</td>\n",
       "      <td>4.0</td>\n",
       "      <td>Alice Johnson</td>\n",
       "      <td>28</td>\n",
       "      <td>New York</td>\n",
       "      <td>2023-01-15</td>\n",
       "      <td>123-456-7890</td>\n",
       "      <td>alice@email.com</td>\n",
       "      <td>Dinner</td>\n",
       "      <td>12</td>\n",
       "    </tr>\n",
       "    <tr>\n",
       "      <th>4</th>\n",
       "      <td>S005</td>\n",
       "      <td>U004</td>\n",
       "      <td>Caesar Salad</td>\n",
       "      <td>Lunch</td>\n",
       "      <td>2024-12-03 13:00:00</td>\n",
       "      <td>2024-12-03 13:15:00</td>\n",
       "      <td>15</td>\n",
       "      <td>4.7</td>\n",
       "      <td>1005</td>\n",
       "      <td>2024-12-03</td>\n",
       "      <td>...</td>\n",
       "      <td>Day</td>\n",
       "      <td>4.0</td>\n",
       "      <td>David Brown</td>\n",
       "      <td>27</td>\n",
       "      <td>San Francisco</td>\n",
       "      <td>2023-04-05</td>\n",
       "      <td>444-333-2222</td>\n",
       "      <td>david@email.com</td>\n",
       "      <td>Dinner</td>\n",
       "      <td>10</td>\n",
       "    </tr>\n",
       "  </tbody>\n",
       "</table>\n",
       "<p>5 rows × 22 columns</p>\n",
       "</div>"
      ],
      "text/plain": [
       "  Session ID User ID        Dish Name  Meal Type       Session Start  \\\n",
       "0       S001    U001        Spaghetti     Dinner 2024-12-01 19:00:00   \n",
       "1       S002    U002     Caesar Salad      Lunch 2024-12-01 12:00:00   \n",
       "2       S003    U003  Grilled Chicken     Dinner 2024-12-02 19:30:00   \n",
       "3       S004    U001         Pancakes  Breakfast 2024-12-02 07:30:00   \n",
       "4       S005    U004     Caesar Salad      Lunch 2024-12-03 13:00:00   \n",
       "\n",
       "          Session End  Duration (mins)  Session Rating  Order ID Order Date  \\\n",
       "0 2024-12-01 19:30:00               30             4.5      1001 2024-12-01   \n",
       "1 2024-12-01 12:20:00               20             4.0      1002 2024-12-01   \n",
       "2 2024-12-02 20:10:00               40             4.8      1003 2024-12-02   \n",
       "3 2024-12-02 08:00:00               30             4.2      1004 2024-12-02   \n",
       "4 2024-12-03 13:15:00               15             4.7      1005 2024-12-03   \n",
       "\n",
       "   ... Time of Day  Rating      User Name  Age       Location  \\\n",
       "0  ...       Night     5.0  Alice Johnson   28       New York   \n",
       "1  ...         Day     4.0      Bob Smith   35    Los Angeles   \n",
       "2  ...       Night     4.0    Charlie Lee   42        Chicago   \n",
       "3  ...     Morning     4.0  Alice Johnson   28       New York   \n",
       "4  ...         Day     4.0    David Brown   27  San Francisco   \n",
       "\n",
       "   Registration Date         Phone              Email Favorite Meal  \\\n",
       "0         2023-01-15  123-456-7890    alice@email.com        Dinner   \n",
       "1         2023-02-20  987-654-3210      bob@email.com         Lunch   \n",
       "2         2023-03-10  555-123-4567  charlie@email.com     Breakfast   \n",
       "3         2023-01-15  123-456-7890    alice@email.com        Dinner   \n",
       "4         2023-04-05  444-333-2222    david@email.com        Dinner   \n",
       "\n",
       "  Total Orders  \n",
       "0           12  \n",
       "1            8  \n",
       "2           15  \n",
       "3           12  \n",
       "4           10  \n",
       "\n",
       "[5 rows x 22 columns]"
      ]
     },
     "execution_count": 27,
     "metadata": {},
     "output_type": "execute_result"
    }
   ],
   "source": [
    "final_data.head()"
   ]
  },
  {
   "cell_type": "code",
   "execution_count": 28,
   "id": "b2b1f987-e876-4807-8098-d3aadb83d1b8",
   "metadata": {},
   "outputs": [
    {
     "name": "stdout",
     "output_type": "stream",
     "text": [
      "<class 'pandas.core.frame.DataFrame'>\n",
      "RangeIndex: 16 entries, 0 to 15\n",
      "Data columns (total 22 columns):\n",
      " #   Column             Non-Null Count  Dtype         \n",
      "---  ------             --------------  -----         \n",
      " 0   Session ID         16 non-null     object        \n",
      " 1   User ID            16 non-null     object        \n",
      " 2   Dish Name          16 non-null     object        \n",
      " 3   Meal Type          16 non-null     object        \n",
      " 4   Session Start      16 non-null     datetime64[ns]\n",
      " 5   Session End        16 non-null     datetime64[ns]\n",
      " 6   Duration (mins)    16 non-null     int64         \n",
      " 7   Session Rating     16 non-null     float64       \n",
      " 8   Order ID           16 non-null     int64         \n",
      " 9   Order Date         16 non-null     datetime64[ns]\n",
      " 10  Order Status       16 non-null     object        \n",
      " 11  Amount (USD)       16 non-null     float64       \n",
      " 12  Time of Day        16 non-null     object        \n",
      " 13  Rating             16 non-null     float64       \n",
      " 14  User Name          16 non-null     object        \n",
      " 15  Age                16 non-null     int64         \n",
      " 16  Location           16 non-null     object        \n",
      " 17  Registration Date  16 non-null     datetime64[ns]\n",
      " 18  Phone              16 non-null     object        \n",
      " 19  Email              16 non-null     object        \n",
      " 20  Favorite Meal      16 non-null     object        \n",
      " 21  Total Orders       16 non-null     int64         \n",
      "dtypes: datetime64[ns](4), float64(3), int64(4), object(11)\n",
      "memory usage: 2.9+ KB\n"
     ]
    }
   ],
   "source": [
    "final_data.info()"
   ]
  },
  {
   "cell_type": "markdown",
   "id": "dfce1612-fed3-4e5f-add8-2d0c935b669c",
   "metadata": {},
   "source": [
    "---------------------------------------------------------------------------------------------------------------------------------"
   ]
  },
  {
   "cell_type": "markdown",
   "id": "5a7a2f09-ab92-4f64-b92e-a1905dfaeb55",
   "metadata": {},
   "source": [
    "`3. Analysis Task`"
   ]
  },
  {
   "cell_type": "markdown",
   "id": "96060560-c9b8-48ce-9a91-a76ca0661f94",
   "metadata": {},
   "source": [
    "`Realtionship between cooking session and user orders`"
   ]
  },
  {
   "cell_type": "code",
   "execution_count": 29,
   "id": "95f35aaf-54dc-4267-b3dc-333e4350ba76",
   "metadata": {},
   "outputs": [
    {
     "data": {
      "text/html": [
       "<div>\n",
       "<style scoped>\n",
       "    .dataframe tbody tr th:only-of-type {\n",
       "        vertical-align: middle;\n",
       "    }\n",
       "\n",
       "    .dataframe tbody tr th {\n",
       "        vertical-align: top;\n",
       "    }\n",
       "\n",
       "    .dataframe thead th {\n",
       "        text-align: right;\n",
       "    }\n",
       "</style>\n",
       "<table border=\"1\" class=\"dataframe\">\n",
       "  <thead>\n",
       "    <tr style=\"text-align: right;\">\n",
       "      <th></th>\n",
       "      <th>Dish Name</th>\n",
       "      <th>total_orders</th>\n",
       "      <th>average_duration</th>\n",
       "      <th>average_rating</th>\n",
       "    </tr>\n",
       "  </thead>\n",
       "  <tbody>\n",
       "    <tr>\n",
       "      <th>0</th>\n",
       "      <td>Caesar Salad</td>\n",
       "      <td>3</td>\n",
       "      <td>21.666667</td>\n",
       "      <td>4.366667</td>\n",
       "    </tr>\n",
       "    <tr>\n",
       "      <th>1</th>\n",
       "      <td>Grilled Chicken</td>\n",
       "      <td>4</td>\n",
       "      <td>42.500000</td>\n",
       "      <td>4.775000</td>\n",
       "    </tr>\n",
       "    <tr>\n",
       "      <th>2</th>\n",
       "      <td>Oatmeal</td>\n",
       "      <td>1</td>\n",
       "      <td>10.000000</td>\n",
       "      <td>4.100000</td>\n",
       "    </tr>\n",
       "    <tr>\n",
       "      <th>3</th>\n",
       "      <td>Pancakes</td>\n",
       "      <td>2</td>\n",
       "      <td>30.000000</td>\n",
       "      <td>4.400000</td>\n",
       "    </tr>\n",
       "    <tr>\n",
       "      <th>4</th>\n",
       "      <td>Spaghetti</td>\n",
       "      <td>4</td>\n",
       "      <td>35.000000</td>\n",
       "      <td>4.625000</td>\n",
       "    </tr>\n",
       "    <tr>\n",
       "      <th>5</th>\n",
       "      <td>Veggie Burger</td>\n",
       "      <td>2</td>\n",
       "      <td>20.000000</td>\n",
       "      <td>4.350000</td>\n",
       "    </tr>\n",
       "  </tbody>\n",
       "</table>\n",
       "</div>"
      ],
      "text/plain": [
       "         Dish Name  total_orders  average_duration  average_rating\n",
       "0     Caesar Salad             3         21.666667        4.366667\n",
       "1  Grilled Chicken             4         42.500000        4.775000\n",
       "2          Oatmeal             1         10.000000        4.100000\n",
       "3         Pancakes             2         30.000000        4.400000\n",
       "4        Spaghetti             4         35.000000        4.625000\n",
       "5    Veggie Burger             2         20.000000        4.350000"
      ]
     },
     "execution_count": 29,
     "metadata": {},
     "output_type": "execute_result"
    }
   ],
   "source": [
    "cooking_order_relation = final_data.groupby('Dish Name').agg(\n",
    "    total_orders=('Order ID', 'count'),\n",
    "    average_duration=('Duration (mins)', 'mean'),\n",
    "    average_rating=('Session Rating', 'mean')).reset_index()\n",
    "cooking_order_relation"
   ]
  },
  {
   "cell_type": "markdown",
   "id": "f888ef28-0f2e-4547-ae45-293ba1511d05",
   "metadata": {},
   "source": [
    "`Grilled Chicken and Spaghetti are most ordered dishes`\n",
    "`Grilled Chicken has longest avg cooking session duration`\n",
    "`Grilled Chicken and Pancakes have highest ratings`"
   ]
  },
  {
   "cell_type": "markdown",
   "id": "b1a5e5a5-c08f-4468-943f-3e5a9e503005",
   "metadata": {},
   "source": [
    "---------------------------------------------------------------------------------------------------------------------------------"
   ]
  },
  {
   "cell_type": "code",
   "execution_count": 30,
   "id": "a56e633c-d7ee-4972-a927-615ec38561dd",
   "metadata": {},
   "outputs": [],
   "source": [
    "final_data['order_status_numeric'] = final_data['Order Status'].map({'Completed': 1, 'Canceled': 0})"
   ]
  },
  {
   "cell_type": "code",
   "execution_count": 31,
   "id": "525026c0-4718-495c-abbd-409286337242",
   "metadata": {},
   "outputs": [
    {
     "data": {
      "text/plain": [
       "-0.10838980106369038"
      ]
     },
     "execution_count": 31,
     "metadata": {},
     "output_type": "execute_result"
    }
   ],
   "source": [
    "correlation = final_data['Session Rating'].corr(final_data['order_status_numeric'])\n",
    "correlation"
   ]
  },
  {
   "cell_type": "markdown",
   "id": "1f23ee1e-3755-4ece-ac81-efd3cab86b34",
   "metadata": {},
   "source": [
    "`There is no strong impact of session ratings on order status`"
   ]
  },
  {
   "cell_type": "code",
   "execution_count": 32,
   "id": "070c4013-8ab2-475d-a1f0-96ffb7fd2202",
   "metadata": {},
   "outputs": [
    {
     "data": {
      "text/plain": [
       "Order Status\n",
       "Canceled     4.600000\n",
       "Completed    4.507143\n",
       "Name: Session Rating, dtype: float64"
      ]
     },
     "execution_count": 32,
     "metadata": {},
     "output_type": "execute_result"
    }
   ],
   "source": [
    "average_ratings = final_data.groupby('Order Status')['Session Rating'].mean()\n",
    "average_ratings"
   ]
  },
  {
   "cell_type": "markdown",
   "id": "2fa7d7cf-d7f3-4a12-9056-9185a3ad7631",
   "metadata": {},
   "source": [
    "`Session ratings for both order status is similar`\n",
    "`Session ratings is not strong predictor`"
   ]
  },
  {
   "cell_type": "markdown",
   "id": "4a033d82-8148-44b6-893b-2091820a8062",
   "metadata": {},
   "source": [
    "-------------------------------------------------------------------------------"
   ]
  },
  {
   "cell_type": "code",
   "execution_count": 33,
   "id": "e3c7e12c-674b-418a-8c2f-a27858466023",
   "metadata": {},
   "outputs": [
    {
     "data": {
      "text/plain": [
       "0.011218971615224345"
      ]
     },
     "execution_count": 33,
     "metadata": {},
     "output_type": "execute_result"
    }
   ],
   "source": [
    "duration_correlation = final_data['Duration (mins)'].corr(final_data['order_status_numeric'])\n",
    "duration_correlation"
   ]
  },
  {
   "cell_type": "code",
   "execution_count": 34,
   "id": "0acf80f0-d0ca-46bb-ba8e-ff17974c0205",
   "metadata": {},
   "outputs": [
    {
     "data": {
      "text/plain": [
       "Order Status\n",
       "Canceled     30.000000\n",
       "Completed    30.357143\n",
       "Name: Duration (mins), dtype: float64"
      ]
     },
     "execution_count": 34,
     "metadata": {},
     "output_type": "execute_result"
    }
   ],
   "source": [
    "average_duration_ratings = final_data.groupby('Order Status')['Duration (mins)'].mean()\n",
    "average_duration_ratings"
   ]
  },
  {
   "cell_type": "markdown",
   "id": "5d54fb9a-e50c-452b-91fb-6418b96d6883",
   "metadata": {},
   "source": [
    "`Duration is not a strong predictor`"
   ]
  },
  {
   "cell_type": "markdown",
   "id": "229ce78b-3254-492b-a233-486de329d758",
   "metadata": {},
   "source": [
    "-----------------------------------------------------------------------------"
   ]
  },
  {
   "cell_type": "code",
   "execution_count": 35,
   "id": "fd2d359b-43de-49d1-b9f0-cc1b95ef456c",
   "metadata": {},
   "outputs": [
    {
     "data": {
      "text/html": [
       "<div>\n",
       "<style scoped>\n",
       "    .dataframe tbody tr th:only-of-type {\n",
       "        vertical-align: middle;\n",
       "    }\n",
       "\n",
       "    .dataframe tbody tr th {\n",
       "        vertical-align: top;\n",
       "    }\n",
       "\n",
       "    .dataframe thead th {\n",
       "        text-align: right;\n",
       "    }\n",
       "</style>\n",
       "<table border=\"1\" class=\"dataframe\">\n",
       "  <thead>\n",
       "    <tr style=\"text-align: right;\">\n",
       "      <th>Order Status</th>\n",
       "      <th>Canceled</th>\n",
       "      <th>Completed</th>\n",
       "    </tr>\n",
       "    <tr>\n",
       "      <th>Dish Name</th>\n",
       "      <th></th>\n",
       "      <th></th>\n",
       "    </tr>\n",
       "  </thead>\n",
       "  <tbody>\n",
       "    <tr>\n",
       "      <th>Caesar Salad</th>\n",
       "      <td>NaN</td>\n",
       "      <td>3.0</td>\n",
       "    </tr>\n",
       "    <tr>\n",
       "      <th>Grilled Chicken</th>\n",
       "      <td>1.0</td>\n",
       "      <td>3.0</td>\n",
       "    </tr>\n",
       "    <tr>\n",
       "      <th>Oatmeal</th>\n",
       "      <td>NaN</td>\n",
       "      <td>1.0</td>\n",
       "    </tr>\n",
       "    <tr>\n",
       "      <th>Pancakes</th>\n",
       "      <td>NaN</td>\n",
       "      <td>2.0</td>\n",
       "    </tr>\n",
       "    <tr>\n",
       "      <th>Spaghetti</th>\n",
       "      <td>NaN</td>\n",
       "      <td>4.0</td>\n",
       "    </tr>\n",
       "    <tr>\n",
       "      <th>Veggie Burger</th>\n",
       "      <td>1.0</td>\n",
       "      <td>1.0</td>\n",
       "    </tr>\n",
       "  </tbody>\n",
       "</table>\n",
       "</div>"
      ],
      "text/plain": [
       "Order Status     Canceled  Completed\n",
       "Dish Name                           \n",
       "Caesar Salad          NaN        3.0\n",
       "Grilled Chicken       1.0        3.0\n",
       "Oatmeal               NaN        1.0\n",
       "Pancakes              NaN        2.0\n",
       "Spaghetti             NaN        4.0\n",
       "Veggie Burger         1.0        1.0"
      ]
     },
     "execution_count": 35,
     "metadata": {},
     "output_type": "execute_result"
    }
   ],
   "source": [
    "dish_order_status = final_data.groupby(['Dish Name', 'Order Status'])['Order ID'].count().unstack()\n",
    "dish_order_status"
   ]
  },
  {
   "cell_type": "code",
   "execution_count": 36,
   "id": "a5928484-4ff9-4cfa-86ac-0800374a4948",
   "metadata": {
    "scrolled": true
   },
   "outputs": [
    {
     "data": {
      "text/html": [
       "<div>\n",
       "<style scoped>\n",
       "    .dataframe tbody tr th:only-of-type {\n",
       "        vertical-align: middle;\n",
       "    }\n",
       "\n",
       "    .dataframe tbody tr th {\n",
       "        vertical-align: top;\n",
       "    }\n",
       "\n",
       "    .dataframe thead th {\n",
       "        text-align: right;\n",
       "    }\n",
       "</style>\n",
       "<table border=\"1\" class=\"dataframe\">\n",
       "  <thead>\n",
       "    <tr style=\"text-align: right;\">\n",
       "      <th>Order Status</th>\n",
       "      <th>Canceled</th>\n",
       "      <th>Completed</th>\n",
       "    </tr>\n",
       "    <tr>\n",
       "      <th>Dish Name</th>\n",
       "      <th></th>\n",
       "      <th></th>\n",
       "    </tr>\n",
       "  </thead>\n",
       "  <tbody>\n",
       "    <tr>\n",
       "      <th>Caesar Salad</th>\n",
       "      <td>0.0</td>\n",
       "      <td>3.0</td>\n",
       "    </tr>\n",
       "    <tr>\n",
       "      <th>Grilled Chicken</th>\n",
       "      <td>1.0</td>\n",
       "      <td>3.0</td>\n",
       "    </tr>\n",
       "    <tr>\n",
       "      <th>Oatmeal</th>\n",
       "      <td>0.0</td>\n",
       "      <td>1.0</td>\n",
       "    </tr>\n",
       "    <tr>\n",
       "      <th>Pancakes</th>\n",
       "      <td>0.0</td>\n",
       "      <td>2.0</td>\n",
       "    </tr>\n",
       "    <tr>\n",
       "      <th>Spaghetti</th>\n",
       "      <td>0.0</td>\n",
       "      <td>4.0</td>\n",
       "    </tr>\n",
       "    <tr>\n",
       "      <th>Veggie Burger</th>\n",
       "      <td>1.0</td>\n",
       "      <td>1.0</td>\n",
       "    </tr>\n",
       "  </tbody>\n",
       "</table>\n",
       "</div>"
      ],
      "text/plain": [
       "Order Status     Canceled  Completed\n",
       "Dish Name                           \n",
       "Caesar Salad          0.0        3.0\n",
       "Grilled Chicken       1.0        3.0\n",
       "Oatmeal               0.0        1.0\n",
       "Pancakes              0.0        2.0\n",
       "Spaghetti             0.0        4.0\n",
       "Veggie Burger         1.0        1.0"
      ]
     },
     "execution_count": 36,
     "metadata": {},
     "output_type": "execute_result"
    }
   ],
   "source": [
    "dish_order_status = dish_order_status.fillna(0)\n",
    "dish_order_status "
   ]
  },
  {
   "cell_type": "code",
   "execution_count": 37,
   "id": "dde467f8-0aac-461c-9347-ebac1e50473a",
   "metadata": {},
   "outputs": [
    {
     "data": {
      "text/plain": [
       "<Figure size 400x200 with 0 Axes>"
      ]
     },
     "metadata": {},
     "output_type": "display_data"
    },
    {
     "data": {
      "image/png": "[encoded data removed]",
      "text/plain": [
       "<Figure size 640x480 with 1 Axes>"
      ]
     },
     "metadata": {},
     "output_type": "display_data"
    }
   ],
   "source": [
    "plt.figure(figsize= (4,2))\n",
    "dish_order_status.plot(kind = 'bar') \n",
    "plt.xlabel('Dish Name')\n",
    "plt.ylabel('Order Count')\n",
    "plt.xticks(rotation = 45)\n",
    "plt.show()"
   ]
  },
  {
   "cell_type": "code",
   "execution_count": 38,
   "id": "12006d3f-460d-4c83-81e7-0aafe2ed9485",
   "metadata": {},
   "outputs": [],
   "source": [
    "dish_order_status['completion_rate'] = dish_order_status['Completed'] / (dish_order_status['Completed'] + dish_order_status['Canceled'])"
   ]
  },
  {
   "cell_type": "code",
   "execution_count": 39,
   "id": "07be745d-2c61-4636-84ed-28919af1d1ce",
   "metadata": {},
   "outputs": [
    {
     "data": {
      "text/html": [
       "<div>\n",
       "<style scoped>\n",
       "    .dataframe tbody tr th:only-of-type {\n",
       "        vertical-align: middle;\n",
       "    }\n",
       "\n",
       "    .dataframe tbody tr th {\n",
       "        vertical-align: top;\n",
       "    }\n",
       "\n",
       "    .dataframe thead th {\n",
       "        text-align: right;\n",
       "    }\n",
       "</style>\n",
       "<table border=\"1\" class=\"dataframe\">\n",
       "  <thead>\n",
       "    <tr style=\"text-align: right;\">\n",
       "      <th>Order Status</th>\n",
       "      <th>Canceled</th>\n",
       "      <th>Completed</th>\n",
       "      <th>completion_rate</th>\n",
       "    </tr>\n",
       "    <tr>\n",
       "      <th>Dish Name</th>\n",
       "      <th></th>\n",
       "      <th></th>\n",
       "      <th></th>\n",
       "    </tr>\n",
       "  </thead>\n",
       "  <tbody>\n",
       "    <tr>\n",
       "      <th>Caesar Salad</th>\n",
       "      <td>0.0</td>\n",
       "      <td>3.0</td>\n",
       "      <td>1.00</td>\n",
       "    </tr>\n",
       "    <tr>\n",
       "      <th>Grilled Chicken</th>\n",
       "      <td>1.0</td>\n",
       "      <td>3.0</td>\n",
       "      <td>0.75</td>\n",
       "    </tr>\n",
       "    <tr>\n",
       "      <th>Oatmeal</th>\n",
       "      <td>0.0</td>\n",
       "      <td>1.0</td>\n",
       "      <td>1.00</td>\n",
       "    </tr>\n",
       "    <tr>\n",
       "      <th>Pancakes</th>\n",
       "      <td>0.0</td>\n",
       "      <td>2.0</td>\n",
       "      <td>1.00</td>\n",
       "    </tr>\n",
       "    <tr>\n",
       "      <th>Spaghetti</th>\n",
       "      <td>0.0</td>\n",
       "      <td>4.0</td>\n",
       "      <td>1.00</td>\n",
       "    </tr>\n",
       "    <tr>\n",
       "      <th>Veggie Burger</th>\n",
       "      <td>1.0</td>\n",
       "      <td>1.0</td>\n",
       "      <td>0.50</td>\n",
       "    </tr>\n",
       "  </tbody>\n",
       "</table>\n",
       "</div>"
      ],
      "text/plain": [
       "Order Status     Canceled  Completed  completion_rate\n",
       "Dish Name                                            \n",
       "Caesar Salad          0.0        3.0             1.00\n",
       "Grilled Chicken       1.0        3.0             0.75\n",
       "Oatmeal               0.0        1.0             1.00\n",
       "Pancakes              0.0        2.0             1.00\n",
       "Spaghetti             0.0        4.0             1.00\n",
       "Veggie Burger         1.0        1.0             0.50"
      ]
     },
     "execution_count": 39,
     "metadata": {},
     "output_type": "execute_result"
    }
   ],
   "source": [
    "dish_order_status"
   ]
  },
  {
   "cell_type": "markdown",
   "id": "989374d3-f3e6-4358-8db6-8e91d18f14f0",
   "metadata": {},
   "source": [
    "`Veggie Burger has lower completion rate`"
   ]
  },
  {
   "cell_type": "markdown",
   "id": "475314b1-b843-49a3-b6fb-5e6e9042e8c0",
   "metadata": {},
   "source": [
    "`Customer feedback can be gathered here for lower completion rate`"
   ]
  },
  {
   "cell_type": "markdown",
   "id": "7aebb858-8cb4-44a9-91de-13e1113e249f",
   "metadata": {},
   "source": [
    "---------------------------------------------------------------------------------------------------------------------------------"
   ]
  },
  {
   "cell_type": "markdown",
   "id": "a544901e-31f3-4f35-bac5-3e6935c73eec",
   "metadata": {},
   "source": [
    "- b. Popular dishes"
   ]
  },
  {
   "cell_type": "code",
   "execution_count": 40,
   "id": "61946a03-20f9-4f0e-a5a9-c54c51bb6534",
   "metadata": {},
   "outputs": [
    {
     "data": {
      "text/plain": [
       "Dish Name\n",
       "Spaghetti          4\n",
       "Grilled Chicken    4\n",
       "Caesar Salad       3\n",
       "Pancakes           2\n",
       "Veggie Burger      2\n",
       "Oatmeal            1\n",
       "Name: count, dtype: int64"
      ]
     },
     "execution_count": 40,
     "metadata": {},
     "output_type": "execute_result"
    }
   ],
   "source": [
    "popular_dishes = final_data['Dish Name'].value_counts()\n",
    "popular_dishes"
   ]
  },
  {
   "cell_type": "code",
   "execution_count": 41,
   "id": "0a924ff5-6a92-49e0-b626-fe88a31f013d",
   "metadata": {},
   "outputs": [
    {
     "data": {
      "image/png": "[encoded data removed]",
      "text/plain": [
       "<Figure size 640x480 with 1 Axes>"
      ]
     },
     "metadata": {},
     "output_type": "display_data"
    }
   ],
   "source": [
    "sns.barplot(x = popular_dishes.values,y = popular_dishes.index, hue= popular_dishes.values)\n",
    "plt.title('Top Popular dishes')\n",
    "plt.xlabel('Order Count')\n",
    "plt.ylabel('Dish Name')\n",
    "plt.show()"
   ]
  },
  {
   "cell_type": "markdown",
   "id": "24676d92-29ca-4b66-bbb2-4e190ef3a669",
   "metadata": {},
   "source": [
    "---------------------------------------------------------------------------------------------------------------------------------"
   ]
  },
  {
   "cell_type": "markdown",
   "id": "6879b753-f6f5-4859-925a-fcbc4b935ba3",
   "metadata": {},
   "source": [
    "c. Demographic factors that influence user behavior"
   ]
  },
  {
   "cell_type": "code",
   "execution_count": 42,
   "id": "cd07b68f-5e24-448e-8084-4bbb9713282e",
   "metadata": {},
   "outputs": [
    {
     "data": {
      "text/html": [
       "<div>\n",
       "<style scoped>\n",
       "    .dataframe tbody tr th:only-of-type {\n",
       "        vertical-align: middle;\n",
       "    }\n",
       "\n",
       "    .dataframe tbody tr th {\n",
       "        vertical-align: top;\n",
       "    }\n",
       "\n",
       "    .dataframe thead th {\n",
       "        text-align: right;\n",
       "    }\n",
       "</style>\n",
       "<table border=\"1\" class=\"dataframe\">\n",
       "  <thead>\n",
       "    <tr style=\"text-align: right;\">\n",
       "      <th></th>\n",
       "      <th>Age</th>\n",
       "      <th>Location</th>\n",
       "      <th>Favorite Meal</th>\n",
       "      <th>Total Orders</th>\n",
       "    </tr>\n",
       "  </thead>\n",
       "  <tbody>\n",
       "    <tr>\n",
       "      <th>0</th>\n",
       "      <td>25</td>\n",
       "      <td>Austin</td>\n",
       "      <td>Dinner</td>\n",
       "      <td>7</td>\n",
       "    </tr>\n",
       "    <tr>\n",
       "      <th>1</th>\n",
       "      <td>27</td>\n",
       "      <td>San Francisco</td>\n",
       "      <td>Dinner</td>\n",
       "      <td>20</td>\n",
       "    </tr>\n",
       "    <tr>\n",
       "      <th>2</th>\n",
       "      <td>28</td>\n",
       "      <td>New York</td>\n",
       "      <td>Dinner</td>\n",
       "      <td>36</td>\n",
       "    </tr>\n",
       "    <tr>\n",
       "      <th>3</th>\n",
       "      <td>30</td>\n",
       "      <td>Seattle</td>\n",
       "      <td>Lunch</td>\n",
       "      <td>18</td>\n",
       "    </tr>\n",
       "    <tr>\n",
       "      <th>4</th>\n",
       "      <td>31</td>\n",
       "      <td>Miami</td>\n",
       "      <td>Dinner</td>\n",
       "      <td>5</td>\n",
       "    </tr>\n",
       "    <tr>\n",
       "      <th>5</th>\n",
       "      <td>35</td>\n",
       "      <td>Los Angeles</td>\n",
       "      <td>Lunch</td>\n",
       "      <td>24</td>\n",
       "    </tr>\n",
       "    <tr>\n",
       "      <th>6</th>\n",
       "      <td>38</td>\n",
       "      <td>Boston</td>\n",
       "      <td>Breakfast</td>\n",
       "      <td>14</td>\n",
       "    </tr>\n",
       "    <tr>\n",
       "      <th>7</th>\n",
       "      <td>42</td>\n",
       "      <td>Chicago</td>\n",
       "      <td>Breakfast</td>\n",
       "      <td>45</td>\n",
       "    </tr>\n",
       "  </tbody>\n",
       "</table>\n",
       "</div>"
      ],
      "text/plain": [
       "   Age       Location Favorite Meal  Total Orders\n",
       "0   25         Austin        Dinner             7\n",
       "1   27  San Francisco        Dinner            20\n",
       "2   28       New York        Dinner            36\n",
       "3   30        Seattle         Lunch            18\n",
       "4   31          Miami        Dinner             5\n",
       "5   35    Los Angeles         Lunch            24\n",
       "6   38         Boston     Breakfast            14\n",
       "7   42        Chicago     Breakfast            45"
      ]
     },
     "execution_count": 42,
     "metadata": {},
     "output_type": "execute_result"
    }
   ],
   "source": [
    "demographic_analysis = final_data.groupby(['Age', 'Location', 'Favorite Meal'])['Total Orders'].sum().reset_index()\n",
    "demographic_analysis"
   ]
  },
  {
   "cell_type": "markdown",
   "id": "b3aaf0df-9c97-4046-9af9-a81345172158",
   "metadata": {},
   "source": [
    "`Age range of users is between 25 to 42`"
   ]
  },
  {
   "cell_type": "markdown",
   "id": "75928e5a-f5e0-4557-8f63-27e3d482c351",
   "metadata": {},
   "source": [
    "`Users from Chicago are highly engaged in ordering food particulary breakfast.\n",
    "This can be a target city`"
   ]
  },
  {
   "cell_type": "markdown",
   "id": "cdc28e67-478e-4ae1-96a5-bc8ed557cfc2",
   "metadata": {},
   "source": [
    "`Miami has very low engagement.\n",
    "Therefore there is a need to improve engagement`"
   ]
  },
  {
   "cell_type": "markdown",
   "id": "8b91acbd-ab4e-475f-918b-2d1b0162aea4",
   "metadata": {},
   "source": [
    "---------------------------------------------------------------------------------------------------------------------------------"
   ]
  },
  {
   "cell_type": "markdown",
   "id": "208e2db1-b7a1-4a30-a483-22eda02a457c",
   "metadata": {},
   "source": [
    "`4. Visualizaton`"
   ]
  },
  {
   "cell_type": "markdown",
   "id": "0d731994-6158-4a2f-b8e3-5dac60781331",
   "metadata": {},
   "source": [
    "- Popular dishes"
   ]
  },
  {
   "cell_type": "code",
   "execution_count": 43,
   "id": "1f06ea3a-824d-4b83-8707-5e7f0c3a5592",
   "metadata": {},
   "outputs": [
    {
     "data": {
      "image/png": "[encoded data removed]",
      "text/plain": [
       "<Figure size 640x480 with 1 Axes>"
      ]
     },
     "metadata": {},
     "output_type": "display_data"
    }
   ],
   "source": [
    "sns.barplot(x = popular_dishes.values,y = popular_dishes.index, hue= popular_dishes.values)\n",
    "plt.title('Top Popular dishes')\n",
    "plt.xlabel('Order Count')\n",
    "plt.ylabel('Dish Name')\n",
    "plt.show()"
   ]
  },
  {
   "cell_type": "markdown",
   "id": "38737701-0989-443d-a7da-8afa80754fd8",
   "metadata": {},
   "source": [
    "- Order trends by location"
   ]
  },
  {
   "cell_type": "code",
   "execution_count": 44,
   "id": "cb479c86-6efb-4adb-bc9e-aef0e6aa4db1",
   "metadata": {},
   "outputs": [
    {
     "data": {
      "image/png": "[encoded data removed]",
      "text/plain": [
       "<Figure size 640x480 with 1 Axes>"
      ]
     },
     "metadata": {},
     "output_type": "display_data"
    }
   ],
   "source": [
    "location_orders = final_data.groupby('Location')['Total Orders'].sum().sort_values(ascending = True)\n",
    "sns.barplot(x = location_orders.values,y = location_orders.index, hue= location_orders.values)\n",
    "plt.title('Orders by Location')\n",
    "plt.xlabel('Total Orders')\n",
    "plt.ylabel('Location')\n",
    "plt.show()"
   ]
  },
  {
   "cell_type": "code",
   "execution_count": 45,
   "id": "89f69111-c739-4e5c-9702-8cfa3e37ce48",
   "metadata": {},
   "outputs": [
    {
     "data": {
      "image/png": "[encoded data removed]",
      "text/plain": [
       "<Figure size 640x480 with 1 Axes>"
      ]
     },
     "metadata": {},
     "output_type": "display_data"
    }
   ],
   "source": [
    "meal_orders = final_data.groupby('Favorite Meal')['Total Orders'].sum().sort_values(ascending = True)\n",
    "sns.barplot(x = meal_orders.values,y = meal_orders.index, hue= meal_orders.values)\n",
    "plt.title('Orders by Favorite meal')\n",
    "plt.xlabel('Total Orders')\n",
    "plt.ylabel('Meal Type')\n",
    "plt.show()"
   ]
  },
  {
   "cell_type": "markdown",
   "id": "a1037056-10f8-4a3c-b279-1024c7797b11",
   "metadata": {},
   "source": [
    "`Recommendations`"
   ]
  },
  {
   "cell_type": "markdown",
   "id": "cafa296b-aa71-4b51-9147-6834cb24fed6",
   "metadata": {},
   "source": [
    " 1. Focus marketing efforts on top performing dishes like Spaghetti and Grilled Chicken, as they are highly popular.\n",
    "  2. Tailors services for user aged between 25 to 42, as they contribute the most to orders.\n",
    "  3. Expand reach in high order locations like Chicago, New York and Los Angeles.\n",
    "  4. Miami has fewer total orders, which suggests a need for further investigation.\n",
    "  5. Dishes with low completeion rates such as the Veggie Burger should be investigated further.\n",
    "  6. Since dinner is most commonly ordered meal, dinner combos or special offers could be created."
   ]
  },
  {
   "cell_type": "code",
   "execution_count": null,
   "id": "4744f140-7b08-45e1-b01e-d74867e1a120",
   "metadata": {},
   "outputs": [],
   "source": []
  }
 ],
 "metadata": {
  "kernelspec": {
   "display_name": "Python 3 (ipykernel)",
   "language": "python",
   "name": "python3"
  },
  "language_info": {
   "codemirror_mode": {
    "name": "ipython",
    "version": 3
   },
   "file_extension": ".py",
   "mimetype": "text/x-python",
   "name": "python",
   "nbconvert_exporter": "python",
   "pygments_lexer": "ipython3",
   "version": "3.11.7"
  }
 },
 "nbformat": 4,
 "nbformat_minor": 5
}
